{
 "cells": [
  {
   "cell_type": "code",
   "execution_count": 1,
   "metadata": {
    "executionInfo": {
     "elapsed": 2,
     "status": "ok",
     "timestamp": 1710083857785,
     "user": {
      "displayName": "Prajwal Mahesh",
      "userId": "13462505253040006289"
     },
     "user_tz": -330
    },
    "id": "bvpFTmg37tOm"
   },
   "outputs": [],
   "source": [
    "#Importing the Dependencies\n",
    "import numpy as np\n",
    "import pandas as pd\n",
    "from sklearn.model_selection import train_test_split\n",
    "from sklearn import svm\n",
    "from sklearn.metrics import accuracy_score"
   ]
  },
  {
   "cell_type": "code",
   "execution_count": 2,
   "metadata": {
    "executionInfo": {
     "elapsed": 395,
     "status": "ok",
     "timestamp": 1710083861848,
     "user": {
      "displayName": "Prajwal Mahesh",
      "userId": "13462505253040006289"
     },
     "user_tz": -330
    },
    "id": "epNmloxA7zY3"
   },
   "outputs": [],
   "source": [
    "#Data Collection and Analysis\n",
    "\n",
    "# loading the diabetes dataset to a pandas DataFrame\n",
    "kidney_dataset = pd.read_csv('C:\\\\Users\\\\prajw\\\\Kidney-Try3\\\\Kidney_stone_detection\\\\Dataset\\\\updated-dataset.csv')"
   ]
  },
  {
   "cell_type": "code",
   "execution_count": 3,
   "metadata": {
    "colab": {
     "base_uri": "https://localhost:8080/",
     "height": 255
    },
    "executionInfo": {
     "elapsed": 584,
     "status": "ok",
     "timestamp": 1710083866918,
     "user": {
      "displayName": "Prajwal Mahesh",
      "userId": "13462505253040006289"
     },
     "user_tz": -330
    },
    "id": "CZGV7z1x8IxW",
    "outputId": "76f12d52-5b0c-494e-b645-71eecf34baa4"
   },
   "outputs": [
    {
     "data": {
      "text/html": [
       "<div>\n",
       "<style scoped>\n",
       "    .dataframe tbody tr th:only-of-type {\n",
       "        vertical-align: middle;\n",
       "    }\n",
       "\n",
       "    .dataframe tbody tr th {\n",
       "        vertical-align: top;\n",
       "    }\n",
       "\n",
       "    .dataframe thead th {\n",
       "        text-align: right;\n",
       "    }\n",
       "</style>\n",
       "<table border=\"1\" class=\"dataframe\">\n",
       "  <thead>\n",
       "    <tr style=\"text-align: right;\">\n",
       "      <th></th>\n",
       "      <th>age</th>\n",
       "      <th>blood_pressure</th>\n",
       "      <th>specific_gravity</th>\n",
       "      <th>albumin</th>\n",
       "      <th>sugar</th>\n",
       "      <th>red_blood_cells</th>\n",
       "      <th>pus_cell</th>\n",
       "      <th>pus_cell_clumps</th>\n",
       "      <th>bacteria</th>\n",
       "      <th>blood_glucose_random</th>\n",
       "      <th>...</th>\n",
       "      <th>packed_cell_volume</th>\n",
       "      <th>white_blood_cell_count</th>\n",
       "      <th>red_blood_cell_count</th>\n",
       "      <th>hypertension</th>\n",
       "      <th>diabetes_mellitus</th>\n",
       "      <th>coronary_artery_disease</th>\n",
       "      <th>appetite</th>\n",
       "      <th>peda_edema</th>\n",
       "      <th>aanemia</th>\n",
       "      <th>class</th>\n",
       "    </tr>\n",
       "  </thead>\n",
       "  <tbody>\n",
       "    <tr>\n",
       "      <th>0</th>\n",
       "      <td>48</td>\n",
       "      <td>80</td>\n",
       "      <td>1.020</td>\n",
       "      <td>1</td>\n",
       "      <td>0</td>\n",
       "      <td>0</td>\n",
       "      <td>1</td>\n",
       "      <td>0</td>\n",
       "      <td>0</td>\n",
       "      <td>121</td>\n",
       "      <td>...</td>\n",
       "      <td>44</td>\n",
       "      <td>7800</td>\n",
       "      <td>5.2</td>\n",
       "      <td>1</td>\n",
       "      <td>1</td>\n",
       "      <td>0</td>\n",
       "      <td>0</td>\n",
       "      <td>0</td>\n",
       "      <td>0</td>\n",
       "      <td>0</td>\n",
       "    </tr>\n",
       "    <tr>\n",
       "      <th>1</th>\n",
       "      <td>7</td>\n",
       "      <td>50</td>\n",
       "      <td>1.020</td>\n",
       "      <td>4</td>\n",
       "      <td>0</td>\n",
       "      <td>1</td>\n",
       "      <td>1</td>\n",
       "      <td>0</td>\n",
       "      <td>0</td>\n",
       "      <td>463</td>\n",
       "      <td>...</td>\n",
       "      <td>38</td>\n",
       "      <td>6000</td>\n",
       "      <td>2.6</td>\n",
       "      <td>0</td>\n",
       "      <td>0</td>\n",
       "      <td>0</td>\n",
       "      <td>0</td>\n",
       "      <td>0</td>\n",
       "      <td>0</td>\n",
       "      <td>0</td>\n",
       "    </tr>\n",
       "    <tr>\n",
       "      <th>2</th>\n",
       "      <td>62</td>\n",
       "      <td>80</td>\n",
       "      <td>1.010</td>\n",
       "      <td>2</td>\n",
       "      <td>3</td>\n",
       "      <td>1</td>\n",
       "      <td>1</td>\n",
       "      <td>0</td>\n",
       "      <td>0</td>\n",
       "      <td>423</td>\n",
       "      <td>...</td>\n",
       "      <td>31</td>\n",
       "      <td>7500</td>\n",
       "      <td>3.4</td>\n",
       "      <td>0</td>\n",
       "      <td>1</td>\n",
       "      <td>0</td>\n",
       "      <td>1</td>\n",
       "      <td>0</td>\n",
       "      <td>1</td>\n",
       "      <td>0</td>\n",
       "    </tr>\n",
       "    <tr>\n",
       "      <th>3</th>\n",
       "      <td>48</td>\n",
       "      <td>70</td>\n",
       "      <td>1.005</td>\n",
       "      <td>4</td>\n",
       "      <td>0</td>\n",
       "      <td>1</td>\n",
       "      <td>0</td>\n",
       "      <td>1</td>\n",
       "      <td>0</td>\n",
       "      <td>117</td>\n",
       "      <td>...</td>\n",
       "      <td>32</td>\n",
       "      <td>6700</td>\n",
       "      <td>3.9</td>\n",
       "      <td>1</td>\n",
       "      <td>0</td>\n",
       "      <td>0</td>\n",
       "      <td>1</td>\n",
       "      <td>1</td>\n",
       "      <td>1</td>\n",
       "      <td>0</td>\n",
       "    </tr>\n",
       "    <tr>\n",
       "      <th>4</th>\n",
       "      <td>51</td>\n",
       "      <td>80</td>\n",
       "      <td>1.010</td>\n",
       "      <td>2</td>\n",
       "      <td>0</td>\n",
       "      <td>1</td>\n",
       "      <td>1</td>\n",
       "      <td>0</td>\n",
       "      <td>0</td>\n",
       "      <td>106</td>\n",
       "      <td>...</td>\n",
       "      <td>35</td>\n",
       "      <td>7300</td>\n",
       "      <td>4.6</td>\n",
       "      <td>0</td>\n",
       "      <td>0</td>\n",
       "      <td>0</td>\n",
       "      <td>0</td>\n",
       "      <td>0</td>\n",
       "      <td>0</td>\n",
       "      <td>0</td>\n",
       "    </tr>\n",
       "  </tbody>\n",
       "</table>\n",
       "<p>5 rows × 25 columns</p>\n",
       "</div>"
      ],
      "text/plain": [
       "   age  blood_pressure  specific_gravity  albumin  sugar  red_blood_cells  \\\n",
       "0   48              80             1.020        1      0                0   \n",
       "1    7              50             1.020        4      0                1   \n",
       "2   62              80             1.010        2      3                1   \n",
       "3   48              70             1.005        4      0                1   \n",
       "4   51              80             1.010        2      0                1   \n",
       "\n",
       "   pus_cell  pus_cell_clumps  bacteria  blood_glucose_random  ...  \\\n",
       "0         1                0         0                   121  ...   \n",
       "1         1                0         0                   463  ...   \n",
       "2         1                0         0                   423  ...   \n",
       "3         0                1         0                   117  ...   \n",
       "4         1                0         0                   106  ...   \n",
       "\n",
       "   packed_cell_volume  white_blood_cell_count  red_blood_cell_count  \\\n",
       "0                  44                    7800                   5.2   \n",
       "1                  38                    6000                   2.6   \n",
       "2                  31                    7500                   3.4   \n",
       "3                  32                    6700                   3.9   \n",
       "4                  35                    7300                   4.6   \n",
       "\n",
       "   hypertension  diabetes_mellitus  coronary_artery_disease  appetite  \\\n",
       "0             1                  1                        0         0   \n",
       "1             0                  0                        0         0   \n",
       "2             0                  1                        0         1   \n",
       "3             1                  0                        0         1   \n",
       "4             0                  0                        0         0   \n",
       "\n",
       "   peda_edema  aanemia  class  \n",
       "0           0        0      0  \n",
       "1           0        0      0  \n",
       "2           0        1      0  \n",
       "3           1        1      0  \n",
       "4           0        0      0  \n",
       "\n",
       "[5 rows x 25 columns]"
      ]
     },
     "execution_count": 3,
     "metadata": {},
     "output_type": "execute_result"
    }
   ],
   "source": [
    "# printing the first 5 rows of the dataset\n",
    "kidney_dataset.head()"
   ]
  },
  {
   "cell_type": "code",
   "execution_count": 4,
   "metadata": {
    "colab": {
     "base_uri": "https://localhost:8080/"
    },
    "executionInfo": {
     "elapsed": 396,
     "status": "ok",
     "timestamp": 1710083870853,
     "user": {
      "displayName": "Prajwal Mahesh",
      "userId": "13462505253040006289"
     },
     "user_tz": -330
    },
    "id": "DntGAfqi8K2y",
    "outputId": "ee56c262-cecc-44c7-e7d7-7e882a566d52"
   },
   "outputs": [
    {
     "data": {
      "text/plain": [
       "(400, 25)"
      ]
     },
     "execution_count": 4,
     "metadata": {},
     "output_type": "execute_result"
    }
   ],
   "source": [
    "# number of rows and Columns in this dataset\n",
    "kidney_dataset.shape"
   ]
  },
  {
   "cell_type": "code",
   "execution_count": 5,
   "metadata": {
    "colab": {
     "base_uri": "https://localhost:8080/",
     "height": 349
    },
    "executionInfo": {
     "elapsed": 14,
     "status": "ok",
     "timestamp": 1710083874129,
     "user": {
      "displayName": "Prajwal Mahesh",
      "userId": "13462505253040006289"
     },
     "user_tz": -330
    },
    "id": "SwG4PbfG8RXW",
    "outputId": "85b84086-61f9-437d-9c65-6075f16a78fa"
   },
   "outputs": [
    {
     "data": {
      "text/html": [
       "<div>\n",
       "<style scoped>\n",
       "    .dataframe tbody tr th:only-of-type {\n",
       "        vertical-align: middle;\n",
       "    }\n",
       "\n",
       "    .dataframe tbody tr th {\n",
       "        vertical-align: top;\n",
       "    }\n",
       "\n",
       "    .dataframe thead th {\n",
       "        text-align: right;\n",
       "    }\n",
       "</style>\n",
       "<table border=\"1\" class=\"dataframe\">\n",
       "  <thead>\n",
       "    <tr style=\"text-align: right;\">\n",
       "      <th></th>\n",
       "      <th>age</th>\n",
       "      <th>blood_pressure</th>\n",
       "      <th>specific_gravity</th>\n",
       "      <th>albumin</th>\n",
       "      <th>sugar</th>\n",
       "      <th>red_blood_cells</th>\n",
       "      <th>pus_cell</th>\n",
       "      <th>pus_cell_clumps</th>\n",
       "      <th>bacteria</th>\n",
       "      <th>blood_glucose_random</th>\n",
       "      <th>...</th>\n",
       "      <th>packed_cell_volume</th>\n",
       "      <th>white_blood_cell_count</th>\n",
       "      <th>red_blood_cell_count</th>\n",
       "      <th>hypertension</th>\n",
       "      <th>diabetes_mellitus</th>\n",
       "      <th>coronary_artery_disease</th>\n",
       "      <th>appetite</th>\n",
       "      <th>peda_edema</th>\n",
       "      <th>aanemia</th>\n",
       "      <th>class</th>\n",
       "    </tr>\n",
       "  </thead>\n",
       "  <tbody>\n",
       "    <tr>\n",
       "      <th>count</th>\n",
       "      <td>400.000000</td>\n",
       "      <td>400.000000</td>\n",
       "      <td>400.000000</td>\n",
       "      <td>400.000000</td>\n",
       "      <td>400.000000</td>\n",
       "      <td>400.000000</td>\n",
       "      <td>400.00000</td>\n",
       "      <td>400.000000</td>\n",
       "      <td>400.000000</td>\n",
       "      <td>400.000000</td>\n",
       "      <td>...</td>\n",
       "      <td>400.000000</td>\n",
       "      <td>400.000000</td>\n",
       "      <td>400.000000</td>\n",
       "      <td>400.000000</td>\n",
       "      <td>400.00000</td>\n",
       "      <td>400.000000</td>\n",
       "      <td>400.000000</td>\n",
       "      <td>400.000000</td>\n",
       "      <td>400.000000</td>\n",
       "      <td>400.000000</td>\n",
       "    </tr>\n",
       "    <tr>\n",
       "      <th>mean</th>\n",
       "      <td>51.157500</td>\n",
       "      <td>76.325000</td>\n",
       "      <td>1.017462</td>\n",
       "      <td>1.042500</td>\n",
       "      <td>0.457500</td>\n",
       "      <td>0.802500</td>\n",
       "      <td>0.76500</td>\n",
       "      <td>0.105000</td>\n",
       "      <td>0.055000</td>\n",
       "      <td>147.020000</td>\n",
       "      <td>...</td>\n",
       "      <td>38.950000</td>\n",
       "      <td>8393.000000</td>\n",
       "      <td>4.696750</td>\n",
       "      <td>0.367500</td>\n",
       "      <td>0.34250</td>\n",
       "      <td>0.085000</td>\n",
       "      <td>0.205000</td>\n",
       "      <td>0.190000</td>\n",
       "      <td>0.150000</td>\n",
       "      <td>0.375000</td>\n",
       "    </tr>\n",
       "    <tr>\n",
       "      <th>std</th>\n",
       "      <td>17.615005</td>\n",
       "      <td>13.664229</td>\n",
       "      <td>0.005741</td>\n",
       "      <td>1.360265</td>\n",
       "      <td>1.089109</td>\n",
       "      <td>0.398611</td>\n",
       "      <td>0.42453</td>\n",
       "      <td>0.306937</td>\n",
       "      <td>0.228266</td>\n",
       "      <td>78.390384</td>\n",
       "      <td>...</td>\n",
       "      <td>8.990248</td>\n",
       "      <td>2876.863197</td>\n",
       "      <td>1.038683</td>\n",
       "      <td>0.482728</td>\n",
       "      <td>0.47514</td>\n",
       "      <td>0.279231</td>\n",
       "      <td>0.404207</td>\n",
       "      <td>0.392792</td>\n",
       "      <td>0.357519</td>\n",
       "      <td>0.484729</td>\n",
       "    </tr>\n",
       "    <tr>\n",
       "      <th>min</th>\n",
       "      <td>2.000000</td>\n",
       "      <td>50.000000</td>\n",
       "      <td>1.005000</td>\n",
       "      <td>0.000000</td>\n",
       "      <td>0.000000</td>\n",
       "      <td>0.000000</td>\n",
       "      <td>0.00000</td>\n",
       "      <td>0.000000</td>\n",
       "      <td>0.000000</td>\n",
       "      <td>22.000000</td>\n",
       "      <td>...</td>\n",
       "      <td>9.000000</td>\n",
       "      <td>2200.000000</td>\n",
       "      <td>2.100000</td>\n",
       "      <td>0.000000</td>\n",
       "      <td>0.00000</td>\n",
       "      <td>0.000000</td>\n",
       "      <td>0.000000</td>\n",
       "      <td>0.000000</td>\n",
       "      <td>0.000000</td>\n",
       "      <td>0.000000</td>\n",
       "    </tr>\n",
       "    <tr>\n",
       "      <th>25%</th>\n",
       "      <td>41.000000</td>\n",
       "      <td>70.000000</td>\n",
       "      <td>1.010000</td>\n",
       "      <td>0.000000</td>\n",
       "      <td>0.000000</td>\n",
       "      <td>1.000000</td>\n",
       "      <td>1.00000</td>\n",
       "      <td>0.000000</td>\n",
       "      <td>0.000000</td>\n",
       "      <td>100.000000</td>\n",
       "      <td>...</td>\n",
       "      <td>33.000000</td>\n",
       "      <td>6500.000000</td>\n",
       "      <td>3.900000</td>\n",
       "      <td>0.000000</td>\n",
       "      <td>0.00000</td>\n",
       "      <td>0.000000</td>\n",
       "      <td>0.000000</td>\n",
       "      <td>0.000000</td>\n",
       "      <td>0.000000</td>\n",
       "      <td>0.000000</td>\n",
       "    </tr>\n",
       "    <tr>\n",
       "      <th>50%</th>\n",
       "      <td>54.000000</td>\n",
       "      <td>80.000000</td>\n",
       "      <td>1.020000</td>\n",
       "      <td>0.000000</td>\n",
       "      <td>0.000000</td>\n",
       "      <td>1.000000</td>\n",
       "      <td>1.00000</td>\n",
       "      <td>0.000000</td>\n",
       "      <td>0.000000</td>\n",
       "      <td>121.000000</td>\n",
       "      <td>...</td>\n",
       "      <td>41.000000</td>\n",
       "      <td>8000.000000</td>\n",
       "      <td>4.800000</td>\n",
       "      <td>0.000000</td>\n",
       "      <td>0.00000</td>\n",
       "      <td>0.000000</td>\n",
       "      <td>0.000000</td>\n",
       "      <td>0.000000</td>\n",
       "      <td>0.000000</td>\n",
       "      <td>0.000000</td>\n",
       "    </tr>\n",
       "    <tr>\n",
       "      <th>75%</th>\n",
       "      <td>65.000000</td>\n",
       "      <td>80.000000</td>\n",
       "      <td>1.020000</td>\n",
       "      <td>2.000000</td>\n",
       "      <td>0.000000</td>\n",
       "      <td>1.000000</td>\n",
       "      <td>1.00000</td>\n",
       "      <td>0.000000</td>\n",
       "      <td>0.000000</td>\n",
       "      <td>159.250000</td>\n",
       "      <td>...</td>\n",
       "      <td>45.000000</td>\n",
       "      <td>9800.000000</td>\n",
       "      <td>5.400000</td>\n",
       "      <td>1.000000</td>\n",
       "      <td>1.00000</td>\n",
       "      <td>0.000000</td>\n",
       "      <td>0.000000</td>\n",
       "      <td>0.000000</td>\n",
       "      <td>0.000000</td>\n",
       "      <td>1.000000</td>\n",
       "    </tr>\n",
       "    <tr>\n",
       "      <th>max</th>\n",
       "      <td>90.000000</td>\n",
       "      <td>180.000000</td>\n",
       "      <td>1.025000</td>\n",
       "      <td>5.000000</td>\n",
       "      <td>5.000000</td>\n",
       "      <td>1.000000</td>\n",
       "      <td>1.00000</td>\n",
       "      <td>1.000000</td>\n",
       "      <td>1.000000</td>\n",
       "      <td>490.000000</td>\n",
       "      <td>...</td>\n",
       "      <td>54.000000</td>\n",
       "      <td>26400.000000</td>\n",
       "      <td>8.000000</td>\n",
       "      <td>1.000000</td>\n",
       "      <td>1.00000</td>\n",
       "      <td>1.000000</td>\n",
       "      <td>1.000000</td>\n",
       "      <td>1.000000</td>\n",
       "      <td>1.000000</td>\n",
       "      <td>1.000000</td>\n",
       "    </tr>\n",
       "  </tbody>\n",
       "</table>\n",
       "<p>8 rows × 25 columns</p>\n",
       "</div>"
      ],
      "text/plain": [
       "              age  blood_pressure  specific_gravity     albumin       sugar  \\\n",
       "count  400.000000      400.000000        400.000000  400.000000  400.000000   \n",
       "mean    51.157500       76.325000          1.017462    1.042500    0.457500   \n",
       "std     17.615005       13.664229          0.005741    1.360265    1.089109   \n",
       "min      2.000000       50.000000          1.005000    0.000000    0.000000   \n",
       "25%     41.000000       70.000000          1.010000    0.000000    0.000000   \n",
       "50%     54.000000       80.000000          1.020000    0.000000    0.000000   \n",
       "75%     65.000000       80.000000          1.020000    2.000000    0.000000   \n",
       "max     90.000000      180.000000          1.025000    5.000000    5.000000   \n",
       "\n",
       "       red_blood_cells   pus_cell  pus_cell_clumps    bacteria  \\\n",
       "count       400.000000  400.00000       400.000000  400.000000   \n",
       "mean          0.802500    0.76500         0.105000    0.055000   \n",
       "std           0.398611    0.42453         0.306937    0.228266   \n",
       "min           0.000000    0.00000         0.000000    0.000000   \n",
       "25%           1.000000    1.00000         0.000000    0.000000   \n",
       "50%           1.000000    1.00000         0.000000    0.000000   \n",
       "75%           1.000000    1.00000         0.000000    0.000000   \n",
       "max           1.000000    1.00000         1.000000    1.000000   \n",
       "\n",
       "       blood_glucose_random  ...  packed_cell_volume  white_blood_cell_count  \\\n",
       "count            400.000000  ...          400.000000              400.000000   \n",
       "mean             147.020000  ...           38.950000             8393.000000   \n",
       "std               78.390384  ...            8.990248             2876.863197   \n",
       "min               22.000000  ...            9.000000             2200.000000   \n",
       "25%              100.000000  ...           33.000000             6500.000000   \n",
       "50%              121.000000  ...           41.000000             8000.000000   \n",
       "75%              159.250000  ...           45.000000             9800.000000   \n",
       "max              490.000000  ...           54.000000            26400.000000   \n",
       "\n",
       "       red_blood_cell_count  hypertension  diabetes_mellitus  \\\n",
       "count            400.000000    400.000000          400.00000   \n",
       "mean               4.696750      0.367500            0.34250   \n",
       "std                1.038683      0.482728            0.47514   \n",
       "min                2.100000      0.000000            0.00000   \n",
       "25%                3.900000      0.000000            0.00000   \n",
       "50%                4.800000      0.000000            0.00000   \n",
       "75%                5.400000      1.000000            1.00000   \n",
       "max                8.000000      1.000000            1.00000   \n",
       "\n",
       "       coronary_artery_disease    appetite  peda_edema     aanemia       class  \n",
       "count               400.000000  400.000000  400.000000  400.000000  400.000000  \n",
       "mean                  0.085000    0.205000    0.190000    0.150000    0.375000  \n",
       "std                   0.279231    0.404207    0.392792    0.357519    0.484729  \n",
       "min                   0.000000    0.000000    0.000000    0.000000    0.000000  \n",
       "25%                   0.000000    0.000000    0.000000    0.000000    0.000000  \n",
       "50%                   0.000000    0.000000    0.000000    0.000000    0.000000  \n",
       "75%                   0.000000    0.000000    0.000000    0.000000    1.000000  \n",
       "max                   1.000000    1.000000    1.000000    1.000000    1.000000  \n",
       "\n",
       "[8 rows x 25 columns]"
      ]
     },
     "execution_count": 5,
     "metadata": {},
     "output_type": "execute_result"
    }
   ],
   "source": [
    "# getting the statistical measures of the data\n",
    "kidney_dataset.describe()"
   ]
  },
  {
   "cell_type": "code",
   "execution_count": 6,
   "metadata": {
    "colab": {
     "base_uri": "https://localhost:8080/"
    },
    "executionInfo": {
     "elapsed": 403,
     "status": "ok",
     "timestamp": 1710083878784,
     "user": {
      "displayName": "Prajwal Mahesh",
      "userId": "13462505253040006289"
     },
     "user_tz": -330
    },
    "id": "iO8NjYoE8UF2",
    "outputId": "e96b775a-5416-454f-a356-54ecf2af08d2"
   },
   "outputs": [
    {
     "data": {
      "text/plain": [
       "0    250\n",
       "1    150\n",
       "Name: class, dtype: int64"
      ]
     },
     "execution_count": 6,
     "metadata": {},
     "output_type": "execute_result"
    }
   ],
   "source": [
    "kidney_dataset['class'].value_counts()"
   ]
  },
  {
   "cell_type": "code",
   "execution_count": 7,
   "metadata": {
    "colab": {
     "base_uri": "https://localhost:8080/",
     "height": 192
    },
    "executionInfo": {
     "elapsed": 13,
     "status": "ok",
     "timestamp": 1710083881979,
     "user": {
      "displayName": "Prajwal Mahesh",
      "userId": "13462505253040006289"
     },
     "user_tz": -330
    },
    "id": "JzHBS5dF8gQO",
    "outputId": "5405e39b-898e-4e4a-d308-fe63fc01f5a4"
   },
   "outputs": [
    {
     "data": {
      "text/html": [
       "<div>\n",
       "<style scoped>\n",
       "    .dataframe tbody tr th:only-of-type {\n",
       "        vertical-align: middle;\n",
       "    }\n",
       "\n",
       "    .dataframe tbody tr th {\n",
       "        vertical-align: top;\n",
       "    }\n",
       "\n",
       "    .dataframe thead th {\n",
       "        text-align: right;\n",
       "    }\n",
       "</style>\n",
       "<table border=\"1\" class=\"dataframe\">\n",
       "  <thead>\n",
       "    <tr style=\"text-align: right;\">\n",
       "      <th></th>\n",
       "      <th>age</th>\n",
       "      <th>blood_pressure</th>\n",
       "      <th>specific_gravity</th>\n",
       "      <th>albumin</th>\n",
       "      <th>sugar</th>\n",
       "      <th>red_blood_cells</th>\n",
       "      <th>pus_cell</th>\n",
       "      <th>pus_cell_clumps</th>\n",
       "      <th>bacteria</th>\n",
       "      <th>blood_glucose_random</th>\n",
       "      <th>...</th>\n",
       "      <th>haemoglobin</th>\n",
       "      <th>packed_cell_volume</th>\n",
       "      <th>white_blood_cell_count</th>\n",
       "      <th>red_blood_cell_count</th>\n",
       "      <th>hypertension</th>\n",
       "      <th>diabetes_mellitus</th>\n",
       "      <th>coronary_artery_disease</th>\n",
       "      <th>appetite</th>\n",
       "      <th>peda_edema</th>\n",
       "      <th>aanemia</th>\n",
       "    </tr>\n",
       "    <tr>\n",
       "      <th>class</th>\n",
       "      <th></th>\n",
       "      <th></th>\n",
       "      <th></th>\n",
       "      <th></th>\n",
       "      <th></th>\n",
       "      <th></th>\n",
       "      <th></th>\n",
       "      <th></th>\n",
       "      <th></th>\n",
       "      <th></th>\n",
       "      <th></th>\n",
       "      <th></th>\n",
       "      <th></th>\n",
       "      <th></th>\n",
       "      <th></th>\n",
       "      <th></th>\n",
       "      <th></th>\n",
       "      <th></th>\n",
       "      <th></th>\n",
       "      <th></th>\n",
       "      <th></th>\n",
       "    </tr>\n",
       "  </thead>\n",
       "  <tbody>\n",
       "    <tr>\n",
       "      <th>0</th>\n",
       "      <td>54.112000</td>\n",
       "      <td>79.440000</td>\n",
       "      <td>1.014540</td>\n",
       "      <td>1.628000</td>\n",
       "      <td>0.732</td>\n",
       "      <td>0.688000</td>\n",
       "      <td>0.632000</td>\n",
       "      <td>0.168</td>\n",
       "      <td>0.088</td>\n",
       "      <td>170.12</td>\n",
       "      <td>...</td>\n",
       "      <td>11.035200</td>\n",
       "      <td>34.548000</td>\n",
       "      <td>8720.0</td>\n",
       "      <td>4.276</td>\n",
       "      <td>0.588</td>\n",
       "      <td>0.548</td>\n",
       "      <td>0.136</td>\n",
       "      <td>0.328</td>\n",
       "      <td>0.304</td>\n",
       "      <td>0.24</td>\n",
       "    </tr>\n",
       "    <tr>\n",
       "      <th>1</th>\n",
       "      <td>46.233333</td>\n",
       "      <td>71.133333</td>\n",
       "      <td>1.022333</td>\n",
       "      <td>0.066667</td>\n",
       "      <td>0.000</td>\n",
       "      <td>0.993333</td>\n",
       "      <td>0.986667</td>\n",
       "      <td>0.000</td>\n",
       "      <td>0.000</td>\n",
       "      <td>108.52</td>\n",
       "      <td>...</td>\n",
       "      <td>15.058667</td>\n",
       "      <td>46.286667</td>\n",
       "      <td>7848.0</td>\n",
       "      <td>5.398</td>\n",
       "      <td>0.000</td>\n",
       "      <td>0.000</td>\n",
       "      <td>0.000</td>\n",
       "      <td>0.000</td>\n",
       "      <td>0.000</td>\n",
       "      <td>0.00</td>\n",
       "    </tr>\n",
       "  </tbody>\n",
       "</table>\n",
       "<p>2 rows × 24 columns</p>\n",
       "</div>"
      ],
      "text/plain": [
       "             age  blood_pressure  specific_gravity   albumin  sugar  \\\n",
       "class                                                                 \n",
       "0      54.112000       79.440000          1.014540  1.628000  0.732   \n",
       "1      46.233333       71.133333          1.022333  0.066667  0.000   \n",
       "\n",
       "       red_blood_cells  pus_cell  pus_cell_clumps  bacteria  \\\n",
       "class                                                         \n",
       "0             0.688000  0.632000            0.168     0.088   \n",
       "1             0.993333  0.986667            0.000     0.000   \n",
       "\n",
       "       blood_glucose_random  ...  haemoglobin  packed_cell_volume  \\\n",
       "class                        ...                                    \n",
       "0                    170.12  ...    11.035200           34.548000   \n",
       "1                    108.52  ...    15.058667           46.286667   \n",
       "\n",
       "       white_blood_cell_count  red_blood_cell_count  hypertension  \\\n",
       "class                                                               \n",
       "0                      8720.0                 4.276         0.588   \n",
       "1                      7848.0                 5.398         0.000   \n",
       "\n",
       "       diabetes_mellitus  coronary_artery_disease  appetite  peda_edema  \\\n",
       "class                                                                     \n",
       "0                  0.548                    0.136     0.328       0.304   \n",
       "1                  0.000                    0.000     0.000       0.000   \n",
       "\n",
       "       aanemia  \n",
       "class           \n",
       "0         0.24  \n",
       "1         0.00  \n",
       "\n",
       "[2 rows x 24 columns]"
      ]
     },
     "execution_count": 7,
     "metadata": {},
     "output_type": "execute_result"
    }
   ],
   "source": [
    "kidney_dataset.groupby('class').mean()"
   ]
  },
  {
   "cell_type": "code",
   "execution_count": 8,
   "metadata": {
    "executionInfo": {
     "elapsed": 400,
     "status": "ok",
     "timestamp": 1710083885619,
     "user": {
      "displayName": "Prajwal Mahesh",
      "userId": "13462505253040006289"
     },
     "user_tz": -330
    },
    "id": "eLDZiTtz8oOL"
   },
   "outputs": [],
   "source": [
    "# separating the data and labels\n",
    "X = kidney_dataset.drop(['class'], axis = 1)\n",
    "Y = kidney_dataset['class']"
   ]
  },
  {
   "cell_type": "code",
   "execution_count": 9,
   "metadata": {
    "colab": {
     "base_uri": "https://localhost:8080/"
    },
    "executionInfo": {
     "elapsed": 380,
     "status": "ok",
     "timestamp": 1710083891650,
     "user": {
      "displayName": "Prajwal Mahesh",
      "userId": "13462505253040006289"
     },
     "user_tz": -330
    },
    "id": "S4XJ4Wfm9Q1b",
    "outputId": "5577c51b-457c-4a84-8338-e851ba134dbb"
   },
   "outputs": [
    {
     "name": "stdout",
     "output_type": "stream",
     "text": [
      "     age  blood_pressure  specific_gravity  albumin  sugar  red_blood_cells  \\\n",
      "0     48              80             1.020        1      0                0   \n",
      "1      7              50             1.020        4      0                1   \n",
      "2     62              80             1.010        2      3                1   \n",
      "3     48              70             1.005        4      0                1   \n",
      "4     51              80             1.010        2      0                1   \n",
      "..   ...             ...               ...      ...    ...              ...   \n",
      "395   55              80             1.020        0      0                1   \n",
      "396   42              70             1.025        0      0                1   \n",
      "397   12              80             1.020        0      0                1   \n",
      "398   17              60             1.025        0      0                1   \n",
      "399   58              80             1.025        0      0                1   \n",
      "\n",
      "     pus_cell  pus_cell_clumps  bacteria  blood_glucose_random  ...  \\\n",
      "0           1                0         0                   121  ...   \n",
      "1           1                0         0                   463  ...   \n",
      "2           1                0         0                   423  ...   \n",
      "3           0                1         0                   117  ...   \n",
      "4           1                0         0                   106  ...   \n",
      "..        ...              ...       ...                   ...  ...   \n",
      "395         1                0         0                   140  ...   \n",
      "396         1                0         0                    75  ...   \n",
      "397         1                0         0                   100  ...   \n",
      "398         1                0         0                   114  ...   \n",
      "399         1                0         0                   131  ...   \n",
      "\n",
      "     haemoglobin  packed_cell_volume  white_blood_cell_count  \\\n",
      "0           15.4                  44                    7800   \n",
      "1           11.3                  38                    6000   \n",
      "2            9.6                  31                    7500   \n",
      "3           11.2                  32                    6700   \n",
      "4           11.6                  35                    7300   \n",
      "..           ...                 ...                     ...   \n",
      "395         15.7                  47                    6700   \n",
      "396         16.5                  54                    7800   \n",
      "397         15.8                  49                    6600   \n",
      "398         14.2                  51                    7200   \n",
      "399         15.8                  53                    6800   \n",
      "\n",
      "     red_blood_cell_count  hypertension  diabetes_mellitus  \\\n",
      "0                     5.2             1                  1   \n",
      "1                     2.6             0                  0   \n",
      "2                     3.4             0                  1   \n",
      "3                     3.9             1                  0   \n",
      "4                     4.6             0                  0   \n",
      "..                    ...           ...                ...   \n",
      "395                   4.9             0                  0   \n",
      "396                   6.2             0                  0   \n",
      "397                   5.4             0                  0   \n",
      "398                   5.9             0                  0   \n",
      "399                   6.1             0                  0   \n",
      "\n",
      "     coronary_artery_disease  appetite  peda_edema  aanemia  \n",
      "0                          0         0           0        0  \n",
      "1                          0         0           0        0  \n",
      "2                          0         1           0        1  \n",
      "3                          0         1           1        1  \n",
      "4                          0         0           0        0  \n",
      "..                       ...       ...         ...      ...  \n",
      "395                        0         0           0        0  \n",
      "396                        0         0           0        0  \n",
      "397                        0         0           0        0  \n",
      "398                        0         0           0        0  \n",
      "399                        0         0           0        0  \n",
      "\n",
      "[400 rows x 24 columns]\n"
     ]
    }
   ],
   "source": [
    "print(X)"
   ]
  },
  {
   "cell_type": "code",
   "execution_count": 10,
   "metadata": {
    "colab": {
     "base_uri": "https://localhost:8080/"
    },
    "executionInfo": {
     "elapsed": 388,
     "status": "ok",
     "timestamp": 1710083901657,
     "user": {
      "displayName": "Prajwal Mahesh",
      "userId": "13462505253040006289"
     },
     "user_tz": -330
    },
    "id": "EYsJNLmx9TCo",
    "outputId": "2f139dfa-0be4-40a2-b0b6-6b13b5f0e7fb"
   },
   "outputs": [
    {
     "name": "stdout",
     "output_type": "stream",
     "text": [
      "0      0\n",
      "1      0\n",
      "2      0\n",
      "3      0\n",
      "4      0\n",
      "      ..\n",
      "395    1\n",
      "396    1\n",
      "397    1\n",
      "398    1\n",
      "399    1\n",
      "Name: class, Length: 400, dtype: int64\n"
     ]
    }
   ],
   "source": [
    "print(Y)"
   ]
  },
  {
   "cell_type": "markdown",
   "metadata": {
    "id": "J4kMqnFb9Z1i"
   },
   "source": [
    "Train Test Split"
   ]
  },
  {
   "cell_type": "code",
   "execution_count": 11,
   "metadata": {
    "executionInfo": {
     "elapsed": 426,
     "status": "ok",
     "timestamp": 1710083912978,
     "user": {
      "displayName": "Prajwal Mahesh",
      "userId": "13462505253040006289"
     },
     "user_tz": -330
    },
    "id": "nKRsPh279aQJ"
   },
   "outputs": [],
   "source": [
    "X_train, X_test, Y_train, Y_test = train_test_split(X,Y, test_size = 0.2, stratify=Y, random_state=2)"
   ]
  },
  {
   "cell_type": "code",
   "execution_count": 12,
   "metadata": {
    "colab": {
     "base_uri": "https://localhost:8080/"
    },
    "executionInfo": {
     "elapsed": 394,
     "status": "ok",
     "timestamp": 1710083916839,
     "user": {
      "displayName": "Prajwal Mahesh",
      "userId": "13462505253040006289"
     },
     "user_tz": -330
    },
    "id": "932hqsqU9f_q",
    "outputId": "c3493b63-747b-4234-f730-a48601c5a5da"
   },
   "outputs": [
    {
     "name": "stdout",
     "output_type": "stream",
     "text": [
      "(400, 24) (320, 24) (80, 24)\n"
     ]
    }
   ],
   "source": [
    "print(X.shape, X_train.shape, X_test.shape)"
   ]
  },
  {
   "cell_type": "markdown",
   "metadata": {
    "id": "-ydGHqhB9mmd"
   },
   "source": [
    "Training the Model"
   ]
  },
  {
   "cell_type": "code",
   "execution_count": 13,
   "metadata": {
    "executionInfo": {
     "elapsed": 378,
     "status": "ok",
     "timestamp": 1710083923320,
     "user": {
      "displayName": "Prajwal Mahesh",
      "userId": "13462505253040006289"
     },
     "user_tz": -330
    },
    "id": "IllZUqFO9nCM"
   },
   "outputs": [],
   "source": [
    "classifier = svm.SVC(kernel='linear')"
   ]
  },
  {
   "cell_type": "code",
   "execution_count": 14,
   "metadata": {
    "colab": {
     "base_uri": "https://localhost:8080/",
     "height": 74
    },
    "executionInfo": {
     "elapsed": 4138,
     "status": "ok",
     "timestamp": 1710083929530,
     "user": {
      "displayName": "Prajwal Mahesh",
      "userId": "13462505253040006289"
     },
     "user_tz": -330
    },
    "id": "trPslQaE9tbu",
    "outputId": "ab5865ca-a401-4dd3-be5f-efd15ebea108"
   },
   "outputs": [
    {
     "data": {
      "text/html": [
       "<style>#sk-container-id-1 {color: black;background-color: white;}#sk-container-id-1 pre{padding: 0;}#sk-container-id-1 div.sk-toggleable {background-color: white;}#sk-container-id-1 label.sk-toggleable__label {cursor: pointer;display: block;width: 100%;margin-bottom: 0;padding: 0.3em;box-sizing: border-box;text-align: center;}#sk-container-id-1 label.sk-toggleable__label-arrow:before {content: \"▸\";float: left;margin-right: 0.25em;color: #696969;}#sk-container-id-1 label.sk-toggleable__label-arrow:hover:before {color: black;}#sk-container-id-1 div.sk-estimator:hover label.sk-toggleable__label-arrow:before {color: black;}#sk-container-id-1 div.sk-toggleable__content {max-height: 0;max-width: 0;overflow: hidden;text-align: left;background-color: #f0f8ff;}#sk-container-id-1 div.sk-toggleable__content pre {margin: 0.2em;color: black;border-radius: 0.25em;background-color: #f0f8ff;}#sk-container-id-1 input.sk-toggleable__control:checked~div.sk-toggleable__content {max-height: 200px;max-width: 100%;overflow: auto;}#sk-container-id-1 input.sk-toggleable__control:checked~label.sk-toggleable__label-arrow:before {content: \"▾\";}#sk-container-id-1 div.sk-estimator input.sk-toggleable__control:checked~label.sk-toggleable__label {background-color: #d4ebff;}#sk-container-id-1 div.sk-label input.sk-toggleable__control:checked~label.sk-toggleable__label {background-color: #d4ebff;}#sk-container-id-1 input.sk-hidden--visually {border: 0;clip: rect(1px 1px 1px 1px);clip: rect(1px, 1px, 1px, 1px);height: 1px;margin: -1px;overflow: hidden;padding: 0;position: absolute;width: 1px;}#sk-container-id-1 div.sk-estimator {font-family: monospace;background-color: #f0f8ff;border: 1px dotted black;border-radius: 0.25em;box-sizing: border-box;margin-bottom: 0.5em;}#sk-container-id-1 div.sk-estimator:hover {background-color: #d4ebff;}#sk-container-id-1 div.sk-parallel-item::after {content: \"\";width: 100%;border-bottom: 1px solid gray;flex-grow: 1;}#sk-container-id-1 div.sk-label:hover label.sk-toggleable__label {background-color: #d4ebff;}#sk-container-id-1 div.sk-serial::before {content: \"\";position: absolute;border-left: 1px solid gray;box-sizing: border-box;top: 0;bottom: 0;left: 50%;z-index: 0;}#sk-container-id-1 div.sk-serial {display: flex;flex-direction: column;align-items: center;background-color: white;padding-right: 0.2em;padding-left: 0.2em;position: relative;}#sk-container-id-1 div.sk-item {position: relative;z-index: 1;}#sk-container-id-1 div.sk-parallel {display: flex;align-items: stretch;justify-content: center;background-color: white;position: relative;}#sk-container-id-1 div.sk-item::before, #sk-container-id-1 div.sk-parallel-item::before {content: \"\";position: absolute;border-left: 1px solid gray;box-sizing: border-box;top: 0;bottom: 0;left: 50%;z-index: -1;}#sk-container-id-1 div.sk-parallel-item {display: flex;flex-direction: column;z-index: 1;position: relative;background-color: white;}#sk-container-id-1 div.sk-parallel-item:first-child::after {align-self: flex-end;width: 50%;}#sk-container-id-1 div.sk-parallel-item:last-child::after {align-self: flex-start;width: 50%;}#sk-container-id-1 div.sk-parallel-item:only-child::after {width: 0;}#sk-container-id-1 div.sk-dashed-wrapped {border: 1px dashed gray;margin: 0 0.4em 0.5em 0.4em;box-sizing: border-box;padding-bottom: 0.4em;background-color: white;}#sk-container-id-1 div.sk-label label {font-family: monospace;font-weight: bold;display: inline-block;line-height: 1.2em;}#sk-container-id-1 div.sk-label-container {text-align: center;}#sk-container-id-1 div.sk-container {/* jupyter's `normalize.less` sets `[hidden] { display: none; }` but bootstrap.min.css set `[hidden] { display: none !important; }` so we also need the `!important` here to be able to override the default hidden behavior on the sphinx rendered scikit-learn.org. See: https://github.com/scikit-learn/scikit-learn/issues/21755 */display: inline-block !important;position: relative;}#sk-container-id-1 div.sk-text-repr-fallback {display: none;}</style><div id=\"sk-container-id-1\" class=\"sk-top-container\"><div class=\"sk-text-repr-fallback\"><pre>SVC(kernel=&#x27;linear&#x27;)</pre><b>In a Jupyter environment, please rerun this cell to show the HTML representation or trust the notebook. <br />On GitHub, the HTML representation is unable to render, please try loading this page with nbviewer.org.</b></div><div class=\"sk-container\" hidden><div class=\"sk-item\"><div class=\"sk-estimator sk-toggleable\"><input class=\"sk-toggleable__control sk-hidden--visually\" id=\"sk-estimator-id-1\" type=\"checkbox\" checked><label for=\"sk-estimator-id-1\" class=\"sk-toggleable__label sk-toggleable__label-arrow\">SVC</label><div class=\"sk-toggleable__content\"><pre>SVC(kernel=&#x27;linear&#x27;)</pre></div></div></div></div></div>"
      ],
      "text/plain": [
       "SVC(kernel='linear')"
      ]
     },
     "execution_count": 14,
     "metadata": {},
     "output_type": "execute_result"
    }
   ],
   "source": [
    "#training the support vector Machine Classifier\n",
    "classifier.fit(X_train, Y_train)"
   ]
  },
  {
   "cell_type": "markdown",
   "metadata": {
    "id": "LUM8zfpZ9xit"
   },
   "source": [
    "Model Evaluation"
   ]
  },
  {
   "cell_type": "markdown",
   "metadata": {
    "id": "WFsmfKxE9ycy"
   },
   "source": [
    "Accuracy Score"
   ]
  },
  {
   "cell_type": "code",
   "execution_count": 15,
   "metadata": {
    "executionInfo": {
     "elapsed": 427,
     "status": "ok",
     "timestamp": 1710083935247,
     "user": {
      "displayName": "Prajwal Mahesh",
      "userId": "13462505253040006289"
     },
     "user_tz": -330
    },
    "id": "lp6n9OjG93zb"
   },
   "outputs": [],
   "source": [
    "# accuracy score on the training data\n",
    "X_train_prediction = classifier.predict(X_train)\n",
    "training_data_accuracy = accuracy_score(X_train_prediction, Y_train)"
   ]
  },
  {
   "cell_type": "code",
   "execution_count": 16,
   "metadata": {
    "colab": {
     "base_uri": "https://localhost:8080/"
    },
    "executionInfo": {
     "elapsed": 522,
     "status": "ok",
     "timestamp": 1710083939637,
     "user": {
      "displayName": "Prajwal Mahesh",
      "userId": "13462505253040006289"
     },
     "user_tz": -330
    },
    "id": "PVHAS5Ux96x4",
    "outputId": "b6fb691e-ef8b-4ea6-c5f6-f66781bd5bd7"
   },
   "outputs": [
    {
     "name": "stdout",
     "output_type": "stream",
     "text": [
      "Accuracy score of the training data :  0.990625\n"
     ]
    }
   ],
   "source": [
    "print('Accuracy score of the training data : ', training_data_accuracy)"
   ]
  },
  {
   "cell_type": "code",
   "execution_count": 17,
   "metadata": {
    "executionInfo": {
     "elapsed": 387,
     "status": "ok",
     "timestamp": 1710083945290,
     "user": {
      "displayName": "Prajwal Mahesh",
      "userId": "13462505253040006289"
     },
     "user_tz": -330
    },
    "id": "ysrUn05Z99KG"
   },
   "outputs": [],
   "source": [
    "# accuracy score on the test data\n",
    "X_test_prediction = classifier.predict(X_test)\n",
    "test_data_accuracy = accuracy_score(X_test_prediction, Y_test)"
   ]
  },
  {
   "cell_type": "code",
   "execution_count": 18,
   "metadata": {
    "colab": {
     "base_uri": "https://localhost:8080/"
    },
    "executionInfo": {
     "elapsed": 383,
     "status": "ok",
     "timestamp": 1710083962261,
     "user": {
      "displayName": "Prajwal Mahesh",
      "userId": "13462505253040006289"
     },
     "user_tz": -330
    },
    "id": "buYGjZKb9_-q",
    "outputId": "834a1ba3-0962-4ad4-eca3-40f444345b94"
   },
   "outputs": [
    {
     "name": "stdout",
     "output_type": "stream",
     "text": [
      "Accuracy score of the test data :  0.975\n"
     ]
    }
   ],
   "source": [
    "print('Accuracy score of the test data : ', test_data_accuracy)"
   ]
  },
  {
   "cell_type": "markdown",
   "metadata": {
    "id": "UbFItDfe-FGr"
   },
   "source": [
    "Making a Predictive System"
   ]
  },
  {
   "cell_type": "code",
   "execution_count": 19,
   "metadata": {
    "colab": {
     "base_uri": "https://localhost:8080/"
    },
    "executionInfo": {
     "elapsed": 391,
     "status": "ok",
     "timestamp": 1710084097110,
     "user": {
      "displayName": "Prajwal Mahesh",
      "userId": "13462505253040006289"
     },
     "user_tz": -330
    },
    "id": "-hKi6hED-Fg8",
    "outputId": "76c1c157-4f71-4c85-fb98-6c6887e73ac0"
   },
   "outputs": [
    {
     "name": "stdout",
     "output_type": "stream",
     "text": [
      "[0]\n",
      "The person has ckd\n"
     ]
    },
    {
     "name": "stderr",
     "output_type": "stream",
     "text": [
      "C:\\Users\\prajw\\anaconda3\\lib\\site-packages\\sklearn\\base.py:420: UserWarning: X does not have valid feature names, but SVC was fitted with feature names\n",
      "  warnings.warn(\n"
     ]
    }
   ],
   "source": [
    "input_data = (48,80,1.02,1,0,0,1,0,0,121,36,1.2,135,3.8,15.4,44,7800,5.2,1,1,0,0,0,0)\n",
    "\n",
    "# changing the input_data to numpy array\n",
    "input_data_as_numpy_array = np.asarray(input_data)\n",
    "\n",
    "# reshape the array as we are predicting for one instance\n",
    "input_data_reshaped = input_data_as_numpy_array.reshape(1,-1)\n",
    "\n",
    "prediction = classifier.predict(input_data_reshaped)\n",
    "print(prediction)\n",
    "\n",
    "if (prediction[0] == 0):\n",
    "  print('The person has ckd')\n",
    "else:\n",
    "  print('The person dose not have ckd')"
   ]
  },
  {
   "cell_type": "markdown",
   "metadata": {
    "id": "-s1SxNJT_SZ5"
   },
   "source": [
    "Saving the trained model"
   ]
  },
  {
   "cell_type": "code",
   "execution_count": 20,
   "metadata": {
    "executionInfo": {
     "elapsed": 399,
     "status": "ok",
     "timestamp": 1710084152395,
     "user": {
      "displayName": "Prajwal Mahesh",
      "userId": "13462505253040006289"
     },
     "user_tz": -330
    },
    "id": "X5KbytV0_Sxs"
   },
   "outputs": [],
   "source": [
    "import pickle"
   ]
  },
  {
   "cell_type": "code",
   "execution_count": 21,
   "metadata": {
    "executionInfo": {
     "elapsed": 2,
     "status": "ok",
     "timestamp": 1710084154305,
     "user": {
      "displayName": "Prajwal Mahesh",
      "userId": "13462505253040006289"
     },
     "user_tz": -330
    },
    "id": "V2Lt2gQb_Vlt"
   },
   "outputs": [],
   "source": [
    "filename = 'kidney_svm_final.sav'\n",
    "pickle.dump(classifier, open(filename, 'wb'))"
   ]
  },
  {
   "cell_type": "code",
   "execution_count": 22,
   "metadata": {
    "executionInfo": {
     "elapsed": 2,
     "status": "ok",
     "timestamp": 1710084168127,
     "user": {
      "displayName": "Prajwal Mahesh",
      "userId": "13462505253040006289"
     },
     "user_tz": -330
    },
    "id": "RbAZRRTT_ah4"
   },
   "outputs": [],
   "source": [
    "# loading the saved model\n",
    "loaded_model = pickle.load(open('kidney_svm_final.sav', 'rb'))"
   ]
  },
  {
   "cell_type": "code",
   "execution_count": 23,
   "metadata": {
    "colab": {
     "base_uri": "https://localhost:8080/"
    },
    "executionInfo": {
     "elapsed": 438,
     "status": "ok",
     "timestamp": 1710084186588,
     "user": {
      "displayName": "Prajwal Mahesh",
      "userId": "13462505253040006289"
     },
     "user_tz": -330
    },
    "id": "vutwtjCY_eSu",
    "outputId": "a45e520e-c129-4972-bf2f-a6cc29291f23"
   },
   "outputs": [
    {
     "name": "stdout",
     "output_type": "stream",
     "text": [
      "[0]\n",
      "The person has ckd\n"
     ]
    },
    {
     "name": "stderr",
     "output_type": "stream",
     "text": [
      "C:\\Users\\prajw\\anaconda3\\lib\\site-packages\\sklearn\\base.py:420: UserWarning: X does not have valid feature names, but SVC was fitted with feature names\n",
      "  warnings.warn(\n"
     ]
    }
   ],
   "source": [
    "input_data = (48,80,1.02,1,0,0,1,0,0,121,36,1.2,135,3.8,15.4,44,7800,5.2,1,1,0,0,0,0)\n",
    "\n",
    "# changing the input_data to numpy array\n",
    "input_data_as_numpy_array = np.asarray(input_data)\n",
    "\n",
    "# reshape the array as we are predicting for one instance\n",
    "input_data_reshaped = input_data_as_numpy_array.reshape(1,-1)\n",
    "\n",
    "prediction = loaded_model.predict(input_data_reshaped)\n",
    "print(prediction)\n",
    "\n",
    "if (prediction[0] == 0):\n",
    "  print('The person has ckd')\n",
    "else:\n",
    "  print('The person dose not have ckd')"
   ]
  },
  {
   "cell_type": "code",
   "execution_count": 24,
   "metadata": {
    "colab": {
     "base_uri": "https://localhost:8080/"
    },
    "executionInfo": {
     "elapsed": 477,
     "status": "ok",
     "timestamp": 1710084191991,
     "user": {
      "displayName": "Prajwal Mahesh",
      "userId": "13462505253040006289"
     },
     "user_tz": -330
    },
    "id": "Il-G0jR5_vPT",
    "outputId": "0110016b-1dae-431d-e14f-81d24874945b"
   },
   "outputs": [
    {
     "name": "stdout",
     "output_type": "stream",
     "text": [
      "age\n",
      "blood_pressure\n",
      "specific_gravity\n",
      "albumin\n",
      "sugar\n",
      "red_blood_cells\n",
      "pus_cell\n",
      "pus_cell_clumps\n",
      "bacteria\n",
      "blood_glucose_random\n",
      "blood_urea\n",
      "serum_creatinine\n",
      "sodium\n",
      "potassium\n",
      "haemoglobin\n",
      "packed_cell_volume\n",
      "white_blood_cell_count\n",
      "red_blood_cell_count\n",
      "hypertension\n",
      "diabetes_mellitus\n",
      "coronary_artery_disease\n",
      "appetite\n",
      "peda_edema\n",
      "aanemia\n"
     ]
    }
   ],
   "source": [
    "for column in X.columns:\n",
    "  print(column)"
   ]
  },
  {
   "cell_type": "code",
   "execution_count": 26,
   "metadata": {},
   "outputs": [
    {
     "data": {
      "image/png": "[encoded data removed]",
      "text/plain": [
       "<Figure size 800x600 with 2 Axes>"
      ]
     },
     "metadata": {},
     "output_type": "display_data"
    }
   ],
   "source": [
    "from sklearn.metrics import confusion_matrix\n",
    "\n",
    "# Combine features and labels for the entire dataset\n",
    "X_entire = pd.concat([X_train, X_test])\n",
    "Y_entire = pd.concat([Y_train, Y_test])\n",
    "\n",
    "# Generate predictions for the entire dataset\n",
    "Y_pred_entire = classifier.predict(X_entire)\n",
    "\n",
    "# Create the confusion matrix\n",
    "conf_matrix_entire = confusion_matrix(Y_entire, Y_pred_entire)\n",
    "\n",
    "# Plotting the confusion matrix for the entire dataset\n",
    "plt.figure(figsize=(8, 6))\n",
    "sns.heatmap(conf_matrix_entire, annot=True, fmt='d', cmap='Blues', xticklabels=['Not CKD', 'CKD'], yticklabels=['Not CKD', 'CKD'])\n",
    "plt.xlabel('Predicted')\n",
    "plt.ylabel('Actual')\n",
    "plt.title('Confusion Matrix (Entire Dataset)')\n",
    "plt.show()\n"
   ]
  },
  {
   "cell_type": "code",
   "execution_count": null,
   "metadata": {},
   "outputs": [],
   "source": []
  }
 ],
 "metadata": {
  "colab": {
   "authorship_tag": "ABX9TyOAcpkszRWG4/m1mqGa4NOt",
   "provenance": []
  },
  "kernelspec": {
   "display_name": "Python 3 (ipykernel)",
   "language": "python",
   "name": "python3"
  },
  "language_info": {
   "codemirror_mode": {
    "name": "ipython",
    "version": 3
   },
   "file_extension": ".py",
   "mimetype": "text/x-python",
   "name": "python",
   "nbconvert_exporter": "python",
   "pygments_lexer": "ipython3",
   "version": "3.10.9"
  }
 },
 "nbformat": 4,
 "nbformat_minor": 1
}
